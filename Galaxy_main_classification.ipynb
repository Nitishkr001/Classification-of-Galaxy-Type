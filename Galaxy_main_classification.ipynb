import tensorflow as tf
from tensorflow.keras import layers, models
import matplotlib.pyplot as plt
import cv2

# # Set up GPU memory growth
gpus = tf.config.experimental.list_physical_devices('GPU')
for gpu in gpus:
    tf.config.experimental.set_memory_growth(gpu, True)

# Define dataset directory and parameters
image_size = (256, 256)
batch_size = 32
num_classes = 3  # Three classes: elliptical, spiral, irregular

train_path = r'/content/drive/MyDrive/train_data_2'
test_path = r'/content/drive/MyDrive/test_data_2'

# Data Augmentation and Preprocessing
datagen = tf.keras.preprocessing.image.ImageDataGenerator(
    rescale=1.0/255.0,
    validation_split=0.2,
    rotation_range=20,
    width_shift_range=0.2,
    height_shift_range=0.2,
    horizontal_flip=True,
    zoom_range=0.2,
)


from google.colab import drive
drive.mount('/content/drive')

# Load and split the dataset
train_data = datagen.flow_from_directory(
    train_path,
    target_size=image_size,
    batch_size=batch_size,
    class_mode='categorical',
    subset='training'
)

test_data = datagen.flow_from_directory(
    test_path,
    target_size=image_size,
    batch_size=batch_size,
    class_mode='categorical',
    subset='validation'
)


from tensorflow.keras.applications import MobileNetV2
from tensorflow.keras import models, layers

base_model = MobileNetV2(weights='imagenet', include_top=False, input_shape=(256, 256, 3))

model = models.Sequential([
    base_model,
    layers.GlobalAveragePooling2D(),
    layers.Dense(512, activation='relu'),
    layers.Dropout(0.5),
    layers.Dense(3, activation='softmax')
])
# Display the model summary
model.summary()


# Compile the model
model.compile(optimizer='adam', loss='categorical_crossentropy', metrics=['accuracy'])

# Train the model
history = model.fit(train_data, epochs=20, validation_data=test_data, steps_per_epoch=50)


# Evaluate the model on the test dataset
test_loss, test_accuracy = model.evaluate(test_data)
print(f"\nTest Accuracy: {test_accuracy * 100:.2f}%")

# Save the model for future use
model.save('galaxy_model.h5')

import tensorflow as tf
from tensorflow import keras
import numpy as np
import matplotlib.pyplot as plt
import cv2

# # Load the trained model
# model = keras.models.load_model('galaxy_classifier.h5')

model_file_path = 'galaxy_classifier.h5'
if os.path.exists(model_file_path):
    model = keras.models.load_model(model_file_path)
else:
    print(f"Model file not found at: {model_file_path}")

# Define class labels
class_labels = ['spiral', 'elliptical', 'irregular']

# Load and preprocess the input image
image_path = r'C:\Galaxy dataset\Test_images\spiral\104040.jpg'  # Replace with the path to your input image

# Load and preprocess the image
img = cv2.imread(image_path)
img = cv2.resize(img, (256, 256))  # Resize to the model's input size
img = img / 255.0  # Normalize pixel values

# Ensure the input is a NumPy array with the correct shape
input_image = np.expand_dims(img, axis=0)

# Make a prediction
predictions = model.predict(input_image)

# Get the predicted class
predicted_class_index = np.argmax(predictions)
predicted_class = class_labels[predicted_class_index]

img = cv2.convertScaleAbs(img * 255)
# Display the input image and predicted class
plt.imshow(cv2.cvtColor(img, cv2.COLOR_BGR2RGB))
plt.title(f'Predicted Class: {predicted_class}')
plt.axis('off')
plt.show()
