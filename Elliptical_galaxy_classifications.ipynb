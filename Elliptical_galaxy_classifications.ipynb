import cv2
import numpy as np
import matplotlib.pyplot as plt

def load_image(image_path):
    # Load the image using OpenCV
    img = cv2.imread(image_path)
    return img

# Load the image
image_path = '/content/image_5714.png'  # Replace with the actual image path
img_array = [load_image(image_path)]

# Additional image processing: Edge detection using Sobel
gray = cv2.cvtColor(img_array[0], cv2.COLOR_BGR2GRAY)

# Normalize pixel values to be in the range [0, 1]
gray = cv2.normalize(gray, None, 0, 1, cv2.NORM_MINMAX)

# Sobel operator in x and y directions
sobelx = cv2.Sobel(gray, cv2.CV_64F, 1, 0, ksize=5)
sobely = cv2.Sobel(gray, cv2.CV_64F, 0, 1, ksize=5)

# Compute the magnitude of the gradient
edges = np.sqrt(sobelx**2 + sobely**2)

# Further smoothing using GaussianBlur
smoothed_img = cv2.GaussianBlur(edges, (15, 15), 0)

# Find contours in the smoothed edges
contours, _ = cv2.findContours((smoothed_img * 255).astype(np.uint8), cv2.RETR_EXTERNAL, cv2.CHAIN_APPROX_SIMPLE)

# Find the contour with the largest area
if contours:
    max_contour = max(contours, key=cv2.contourArea)

    # Fit an ellipse to the largest contour
    ellipse = cv2.fitEllipse(max_contour)

    # Get the semi-major and semi-minor axes lengths directly
    semi_major_axis = ellipse[1][0]
    semi_minor_axis = ellipse[1][1]

    # Corrected ellipticity calculation
    if semi_major_axis > semi_minor_axis:
        ellipticity = 1 - semi_minor_axis / semi_major_axis
    else:
        ellipticity = 1 - semi_major_axis / semi_minor_axis

    # Classification based on ellipticity
    if ellipticity < 0.1:
        galaxy_type = "E0 Elliptical Galaxy"
    elif 0.1 <= ellipticity <= 0.5:
        galaxy_type = "E3 Elliptical Galaxy"
    else:
        galaxy_type = "E7 Elliptical Galaxy"

    # Plot the images with the detected ellipse
    plt.figure(figsize=(18, 6))

    # Plot the original image
    plt.subplot(131)
    plt.imshow(cv2.cvtColor(img_array[0], cv2.COLOR_BGR2RGB))
    plt.title('Original Image')

    # Plot the smoothed edges with the detected ellipse in blue color
    plt.subplot(132)
    plt.imshow(smoothed_img, cmap='gray')
    cv2.ellipse(smoothed_img, ellipse, (0, 0, 255), 2)
    plt.scatter(ellipse[0][0], ellipse[0][1], c='r', marker='o', label='Center')
    plt.title(f'Semi-Major Axis: {semi_major_axis:.2f}, Semi-Minor Axis: {semi_minor_axis:.2f}, Ellipticity: {ellipticity:.2f}, Type: {galaxy_type}')

    # Plot the contour on the original image
    plt.subplot(133)
    plt.imshow(cv2.cvtColor(img_array[0], cv2.COLOR_BGR2RGB))
    plt.plot(max_contour[:, 0, 0], max_contour[:, 0, 1], color='b', linewidth=2)
    plt.title('Contour on Original Image')

    plt.show()
else:
    print("No contours found.")
